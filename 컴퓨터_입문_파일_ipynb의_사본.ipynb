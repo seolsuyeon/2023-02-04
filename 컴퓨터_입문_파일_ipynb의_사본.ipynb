{
  "cells": [
    {
      "cell_type": "markdown",
      "metadata": {
        "id": "view-in-github",
        "colab_type": "text"
      },
      "source": [
        "<a href=\"https://colab.research.google.com/github/seolsuyeon/2023-02-04/blob/main/%EC%BB%B4%ED%93%A8%ED%84%B0_%EC%9E%85%EB%AC%B8_%ED%8C%8C%EC%9D%BC_ipynb%EC%9D%98_%EC%82%AC%EB%B3%B8.ipynb\" target=\"_parent\"><img src=\"https://colab.research.google.com/assets/colab-badge.svg\" alt=\"Open In Colab\"/></a>"
      ]
    },
    {
      "cell_type": "markdown",
      "metadata": {
        "id": "ndXwPsY4_5nD"
      },
      "source": [
        "# (실습) 파일"
      ]
    },
    {
      "cell_type": "markdown",
      "metadata": {
        "id": "GnzRmwHn_5nK"
      },
      "source": [
        "**기본 설정**"
      ]
    },
    {
      "cell_type": "markdown",
      "metadata": {
        "id": "alQpG1P__5nM"
      },
      "source": [
        "파일 저장 경로와 파일 서버 주소를 지정에 필요한 기본 설정을 지정한다."
      ]
    },
    {
      "cell_type": "code",
      "execution_count": null,
      "metadata": {
        "id": "fqiX1Y90_5nN"
      },
      "outputs": [],
      "source": [
        "from pathlib import Path\n",
        "from urllib.request import urlretrieve"
      ]
    },
    {
      "cell_type": "markdown",
      "metadata": {
        "id": "efKE1OZd_5nR"
      },
      "source": [
        "데이터가 저장된 텍스트 파일 서버 주소는 다음과 같다."
      ]
    },
    {
      "cell_type": "code",
      "execution_count": null,
      "metadata": {
        "id": "d9NwRZca_5nS"
      },
      "outputs": [],
      "source": [
        "base_url = \"https://raw.githubusercontent.com/codingalzi/pybook/master/jupyter-book/data/\""
      ]
    },
    {
      "cell_type": "markdown",
      "metadata": {
        "id": "TaPSBNOn_5nT"
      },
      "source": [
        "현재 작업 디렉토리의 `data` 하위 디렉토리에 파일을 다운로드해서 저장할 준비를 한다."
      ]
    },
    {
      "cell_type": "code",
      "execution_count": null,
      "metadata": {
        "id": "-Hu3lePs_5nU"
      },
      "outputs": [],
      "source": [
        "# 저장위치 지정과 생성\n",
        "data_path = Path() / \"data\"\n",
        "data_path.mkdir(parents=True, exist_ok=True)"
      ]
    },
    {
      "cell_type": "markdown",
      "metadata": {
        "id": "WYDb0ebc_5nV"
      },
      "source": [
        "`myWget()` 함수는 파일 서버에서 지정된 파일을 동일한 파일명으로 지정된 디렉토리에 저장한다."
      ]
    },
    {
      "cell_type": "code",
      "execution_count": null,
      "metadata": {
        "id": "iiulQAfl_5nV"
      },
      "outputs": [],
      "source": [
        "def myWget(filename):\n",
        "    # 다운로드 대상 파일 경로\n",
        "    file_url = base_url + filename\n",
        "\n",
        "    # 저장 경로와 파일명\n",
        "    target_path = data_path / filename\n",
        "\n",
        "    return urlretrieve(file_url, target_path)"
      ]
    },
    {
      "cell_type": "markdown",
      "metadata": {
        "id": "NqC_NywX_5nX"
      },
      "source": [
        "**쇼핑몰 파일 관련**"
      ]
    },
    {
      "cell_type": "markdown",
      "metadata": {
        "id": "Wqj2M6CF_5nY"
      },
      "source": [
        "**문제 1**"
      ]
    },
    {
      "cell_type": "markdown",
      "metadata": {
        "id": "gSF_tBKvfg9V"
      },
      "source": [
        "`shopA.txt` 파일은 쇼핑몰A에서 판매하는 상품의 가격을 담고 있음을 확인해보자.\n",
        "먼저 해당 파일을 다운로드 한다."
      ]
    },
    {
      "cell_type": "code",
      "execution_count": null,
      "metadata": {
        "id": "y6ll3nIE_5nZ",
        "outputId": "4267d739-1c2b-4f19-8c11-b9a755f7d6d5",
        "colab": {
          "base_uri": "https://localhost:8080/"
        }
      },
      "outputs": [
        {
          "output_type": "execute_result",
          "data": {
            "text/plain": [
              "(PosixPath('data/shopA.txt'), <http.client.HTTPMessage at 0x7fdad60028f0>)"
            ]
          },
          "metadata": {},
          "execution_count": 21
        }
      ],
      "source": [
        "myWget(\"shopA.txt\")"
      ]
    },
    {
      "cell_type": "markdown",
      "metadata": {
        "id": "bFOFaVsw_5nb"
      },
      "source": [
        "이제 파일 전체 내용을 출력하는 코드를 작성하라.\n",
        "\n",
        "힌트: `with-as` 명령문, `open()` 함수, `readlines()` 또는 `read()` 파일 메서드."
      ]
    },
    {
      "cell_type": "code",
      "execution_count": null,
      "metadata": {
        "id": "v6M-uVwd_5nb",
        "colab": {
          "base_uri": "https://localhost:8080/"
        },
        "outputId": "f8676220-593c-4544-b937-a7d84d679705"
      },
      "outputs": [
        {
          "output_type": "stream",
          "name": "stdout",
          "text": [
            "#쇼핑몰 A\n",
            "\n",
            "우유 2540원\n",
            "계란 7480원\n",
            "생수 980원\n",
            "짜장라면 3220원\n",
            "두부 1450원\n",
            "콩나물 1680원\n",
            "김 5480원\n",
            "닭고기 5980원\n",
            "식빵 2480원\n",
            "바나나 4980원\n",
            "오레ㄴ지 990원\n",
            "카레 2480원\n",
            "만두 6980원\n",
            "어묵 7980원\n",
            "참치 11880원\n",
            "김치 7980원\n",
            "간장 10800원\n"
          ]
        }
      ],
      "source": [
        "# 코드를 작성하세요.\n",
        "filename = \"shopA.txt\"\n",
        "\n",
        "# 다운로드 함수 호출\n",
        "file_path, _ = myWget(filename)\n",
        "\n",
        "# 파일 열기\n",
        "with open(file_path, \"r\") as file:\n",
        "    # 파일 내용 읽기\n",
        "    content = file.read()\n",
        "\n",
        "# 파일 내용 출력\n",
        "print(content)\n"
      ]
    },
    {
      "cell_type": "markdown",
      "metadata": {
        "id": "w86OM5AKF6-o"
      },
      "source": [
        "**문제 2**"
      ]
    },
    {
      "cell_type": "markdown",
      "metadata": {
        "id": "dVe6tYetAdhc"
      },
      "source": [
        "`shopA.txt` 파일의 내용을 확인하면, 오타가 있다. \n",
        "'오레ㄴ지' 를 '오렌지'로 변경한 후에\n",
        "`shopA.txt` 파일을 열어 오타가 수정되었는지를 확인하여라.  \n",
        "\n",
        "힌트: 파일의 `read()` 메서드, 문자열의 `replace()` 메서드"
      ]
    },
    {
      "cell_type": "markdown",
      "metadata": {
        "id": "4Zr6u88b_5ne"
      },
      "source": [
        "* 파일 읽기: `read()` 메서드 활용"
      ]
    },
    {
      "cell_type": "code",
      "execution_count": null,
      "metadata": {
        "id": "iauff0Ju_5nf",
        "colab": {
          "base_uri": "https://localhost:8080/"
        },
        "outputId": "ca9831bd-80b7-479a-a429-6f7fe8b3b1c3"
      },
      "outputs": [
        {
          "output_type": "stream",
          "name": "stdout",
          "text": [
            "#쇼핑몰 A\n",
            "\n",
            "우유 2540원\n",
            "계란 7480원\n",
            "생수 980원\n",
            "짜장라면 3220원\n",
            "두부 1450원\n",
            "콩나물 1680원\n",
            "김 5480원\n",
            "닭고기 5980원\n",
            "식빵 2480원\n",
            "바나나 4980원\n",
            "오렌지 990원\n",
            "카레 2480원\n",
            "만두 6980원\n",
            "어묵 7980원\n",
            "참치 11880원\n",
            "김치 7980원\n",
            "간장 10800원\n"
          ]
        }
      ],
      "source": [
        "# 파일내용을 하나의 문자열로 생성하는 코드를 작성하라.\n",
        "\n",
        "filename=\"shopA.txt\"\n",
        "file_path,_=myWget(filename)\n",
        "with open(file_path,\"r\") as file:\n",
        "  content = file.read()\n",
        "modified_content=content.replace(\"오레ㄴ지\",\"오렌지\")\n",
        "print(modified_content)"
      ]
    },
    {
      "cell_type": "markdown",
      "metadata": {
        "id": "P5Zml4Mw_5nf"
      },
      "source": [
        "* 오타 수정: `replace()` 문자열 메서드 활용"
      ]
    },
    {
      "cell_type": "code",
      "execution_count": null,
      "metadata": {
        "id": "VFsGEFTu_5ng",
        "colab": {
          "base_uri": "https://localhost:8080/"
        },
        "outputId": "19137d5e-7bc6-44c6-e7b4-d6b8e7b4a309"
      },
      "outputs": [
        {
          "output_type": "stream",
          "name": "stdout",
          "text": [
            "#쇼핑몰 A\n",
            "\n",
            "우유 2540원\n",
            "계란 7480원\n",
            "생수 980원\n",
            "짜장라면 3220원\n",
            "두부 1450원\n",
            "콩나물 1680원\n",
            "김 5480원\n",
            "닭고기 5980원\n",
            "식빵 2480원\n",
            "바나나 4980원\n",
            "오렌지 990원\n",
            "카레 2480원\n",
            "만두 6980원\n",
            "어묵 7980원\n",
            "참치 11880원\n",
            "김치 7980원\n",
            "간장 10800원\n"
          ]
        }
      ],
      "source": [
        "# 오타를 수정하는 코드를 작성하라.\n",
        "filename=\"shopA.txt\"\n",
        "file_path,_=myWget(filename)\n",
        "with open(file_path,\"r\") as file:\n",
        "  content=file.read()\n",
        "modified_content=content.replace(\"오레ㄴ지\",\"오렌지\")\n",
        "with open(file_path,\"w\") as file:\n",
        "  file.write(modified_content)\n",
        "print(modified_content)\n"
      ]
    },
    {
      "cell_type": "markdown",
      "metadata": {
        "id": "zDKwBMF9_5nh"
      },
      "source": [
        "* 파일 저장"
      ]
    },
    {
      "cell_type": "code",
      "execution_count": null,
      "metadata": {
        "id": "jt2QJarS_5nh",
        "colab": {
          "base_uri": "https://localhost:8080/"
        },
        "outputId": "cf40d470-7813-42c7-c4d8-2ed0752552fd"
      },
      "outputs": [
        {
          "output_type": "stream",
          "name": "stdout",
          "text": [
            "파일이 성공적으로 저장되었습니다.\n",
            "저장된 파일 경로:  data/modified_shopA.txt\n"
          ]
        }
      ],
      "source": [
        "# 오타가 수정된 문자열을 파일로 저장하는 코드를 작성하라.\n",
        "\n",
        "filename=\"shopA.txt\"\n",
        "file_path,_=myWget(filename)\n",
        "with open(file_path,\"r\") as file:\n",
        "  content=file.read()\n",
        "modified_content=content.replace(\"오레ㄴ지\",\"오렌지\")\n",
        "new_file_path=file_path.parent/\"modified_shopA.txt\"\n",
        "with open(new_file_path,\"w\") as file:\n",
        "  file.write(modified_content)\n",
        "\n",
        "print(\"파일이 성공적으로 저장되었습니다.\")\n",
        "print(\"저장된 파일 경로: \",new_file_path)"
      ]
    },
    {
      "cell_type": "markdown",
      "metadata": {
        "id": "6y1XUe5L_5ni"
      },
      "source": [
        "* 파일 내용 확인"
      ]
    },
    {
      "cell_type": "code",
      "execution_count": null,
      "metadata": {
        "id": "cJkpXlo4_5ni",
        "colab": {
          "base_uri": "https://localhost:8080/"
        },
        "outputId": "87e5f121-e11d-44aa-b77f-f5d979f2540e"
      },
      "outputs": [
        {
          "output_type": "stream",
          "name": "stdout",
          "text": [
            "파일이 성공적으로 저장되었습니다.\n",
            "저장된 파일 경로: data/modified_shopA.txt\n",
            "#쇼핑몰 A\n",
            "\n",
            "우유 2540원\n",
            "계란 7480원\n",
            "생수 980원\n",
            "짜장라면 3220원\n",
            "두부 1450원\n",
            "콩나물 1680원\n",
            "김 5480원\n",
            "닭고기 5980원\n",
            "식빵 2480원\n",
            "바나나 4980원\n",
            "오렌지 990원\n",
            "카레 2480원\n",
            "만두 6980원\n",
            "어묵 7980원\n",
            "참치 11880원\n",
            "김치 7980원\n",
            "간장 10800원\n"
          ]
        }
      ],
      "source": [
        "# 오타가 수정되었음을 확인하는 코드를 작성하라.\n",
        "\n",
        "filename = \"shopA.txt\"\n",
        "\n",
        "file_path, _ = myWget(filename)\n",
        "\n",
        "with open(file_path, \"r\") as file:\n",
        "    content = file.read()\n",
        "\n",
        "modified_content = content.replace(\"오레ㄴ지\", \"오렌지\")\n",
        "\n",
        "new_file_path = data_path / \"modified_shopA.txt\"\n",
        "\n",
        "with open(new_file_path, \"w\") as file:\n",
        "    file.write(modified_content)\n",
        "\n",
        "print(\"파일이 성공적으로 저장되었습니다.\")\n",
        "print(\"저장된 파일 경로:\", new_file_path)\n",
        "\n",
        "with open(new_file_path, \"r\") as file:\n",
        "    content = file.read()\n",
        "    print(content)\n"
      ]
    },
    {
      "cell_type": "markdown",
      "metadata": {
        "id": "diva2E9N_5nj"
      },
      "source": [
        "**문제 3**"
      ]
    },
    {
      "cell_type": "markdown",
      "metadata": {
        "id": "egoqIohm-4a8"
      },
      "source": [
        "상품명과 가격을 키-값의 쌍으로 갖는 아래 모양의 딕셔너리를 만들어라.\n",
        "단, 오타가 수정된 파일을 이용해야 한다.\n",
        "\n",
        "```python\n",
        "{'우유': 2540,\n",
        " '계란': 7480,\n",
        " '생수': 980,\n",
        " '짜장라면': 3220,\n",
        " '두부': 1450,\n",
        " '콩나물': 1680,\n",
        " '김': 5480,\n",
        " '닭고기': 5980,\n",
        " '식빵': 2480,\n",
        " '바나나': 4980,\n",
        " '오렌지': 990,\n",
        " '카레': 2480,\n",
        " '만두': 6980,\n",
        " '어묵': 7980,\n",
        " '참치': 11880,\n",
        " '김치': 7980,\n",
        " '간장': 10800}\n",
        "```"
      ]
    },
    {
      "cell_type": "markdown",
      "metadata": {
        "id": "agiH0quMBxIb"
      },
      "source": [
        "**문제 4** "
      ]
    },
    {
      "cell_type": "markdown",
      "metadata": {
        "id": "Dte9F0zf_5nk"
      },
      "source": [
        "`shopA.txt` 와 같이 상품명과 가격으로 이루어진 쇼핑 리스트가 포함된 파일의 이름을 입력받으면\n",
        "상품명과 가격을 각각 키와 값으로 갖는 사전 객체를 반환하는 함수 `shopping()` 을 구현하라.\n",
        "\n",
        "힌트: 문제 3을 해결하기 위해 작성한 코드를 이용한다."
      ]
    },
    {
      "cell_type": "code",
      "execution_count": null,
      "metadata": {
        "colab": {
          "base_uri": "https://localhost:8080/"
        },
        "id": "88mjQ9cRNZ2W",
        "outputId": "217e80d9-dc92-48e7-d7e5-ca8b9f41bc1b"
      },
      "outputs": [
        {
          "output_type": "stream",
          "name": "stdout",
          "text": [
            "{}\n"
          ]
        }
      ],
      "source": [
        "# 아래 코드를 완성하라. \n",
        "\n",
        "def shopping(shop_file):\n",
        "    # 파일 경로 지정\n",
        "    file_path = data_path / shop_file\n",
        "\n",
        "    # 파일 열기 및 내용 읽기\n",
        "    with open(file_path, \"r\") as file:\n",
        "        # 파일 내용을 줄 단위로 읽기\n",
        "        lines = file.readlines()\n",
        "\n",
        "        # 사전 객체 초기화\n",
        "        shop_dict = {}\n",
        "\n",
        "        # 각 줄을 상품명과 가격으로 분리하여 사전에 추가\n",
        "        for line in lines:\n",
        "            line = line.strip()  # 앞뒤 공백 제거\n",
        "\n",
        "            # \":\"를 기준으로 상품명과 가격 분리\n",
        "            colon_index = line.find(\":\")\n",
        "            if colon_index != -1:\n",
        "                product = line[:colon_index].strip()\n",
        "                price = line[colon_index + 1:].strip()\n",
        "                shop_dict[product] = int(price)\n",
        "\n",
        "    return shop_dict\n",
        "\n",
        "print(shopping(\"shopA.txt\"))"
      ]
    },
    {
      "cell_type": "markdown",
      "metadata": {
        "id": "9tquN8NT_5nl"
      },
      "source": [
        "**문제 5**"
      ]
    },
    {
      "cell_type": "markdown",
      "metadata": {
        "id": "HjYVtYpwB5C2"
      },
      "source": [
        "쇼핑 리스트와 상품을 인자로 지정하면 상품의 가격을 반환하는 함수 `item_price()` 를 구현하라.\n",
        "\n",
        "힌트: `shopping()` 함수를 이용한다."
      ]
    },
    {
      "cell_type": "code",
      "execution_count": null,
      "metadata": {
        "colab": {
          "base_uri": "https://localhost:8080/"
        },
        "id": "WOsM3ngUOuAe",
        "outputId": "4c204193-fe9a-4f2c-a877-24b72b81f051"
      },
      "outputs": [
        {
          "output_type": "stream",
          "name": "stdout",
          "text": [
            "None\n"
          ]
        }
      ],
      "source": [
        "# 함수를 완성하라.\n",
        "\n",
        "def item_price(shop_file, item):\n",
        "    shop_dict=shopping(shop_file)\n",
        "    if item in shop_dict:\n",
        "      return shop_dict[item]\n",
        "    else:\n",
        "      return None\n",
        "\n",
        "print(item_price(\"shopA.txt\", '김치'))"
      ]
    },
    {
      "cell_type": "markdown",
      "metadata": {
        "id": "yEyS45lm_5nm"
      },
      "source": [
        "**문제 6**"
      ]
    },
    {
      "cell_type": "markdown",
      "metadata": {
        "id": "pkua4TgcEgut"
      },
      "source": [
        "`shopB.txt` 파일은 쇼핑몰B에서 판매하는 상품의 가격을 담고 있으며,\n",
        "`shopA.txt` 파일과 동일한 방식으로 다운로드할 수 있다."
      ]
    },
    {
      "cell_type": "code",
      "execution_count": null,
      "metadata": {
        "id": "X9hMTIYQ_5nn",
        "outputId": "7dab91b9-7fc6-48a8-ff5b-f61565a8ae5e",
        "colab": {
          "base_uri": "https://localhost:8080/"
        }
      },
      "outputs": [
        {
          "output_type": "execute_result",
          "data": {
            "text/plain": [
              "(PosixPath('data/shopB.txt'), <http.client.HTTPMessage at 0x7fdad6002530>)"
            ]
          },
          "metadata": {},
          "execution_count": 29
        }
      ],
      "source": [
        "myWget(\"shopB.txt\")"
      ]
    },
    {
      "cell_type": "markdown",
      "metadata": {
        "id": "zJvpJmqu_5no"
      },
      "source": [
        "사용자가 상품을 입력하면, 쇼핑몰A와 쇼핑몰B 중 어느 쇼핑몰에서 구입하는 것이 얼마나 저렴한지를 보여주는\n",
        "함수 `price_comparison()`를 작성하라."
      ]
    },
    {
      "cell_type": "code",
      "execution_count": null,
      "metadata": {
        "id": "EkkzT6Yn_5np",
        "outputId": "53437e23-b9c7-4ece-988b-99cbf60b9c9f",
        "colab": {
          "base_uri": "https://localhost:8080/"
        }
      },
      "outputs": [
        {
          "output_type": "stream",
          "name": "stdout",
          "text": [
            "해당 상품은 두 쇼핑몰에서 모두 구입할 수 없습니다.\n"
          ]
        }
      ],
      "source": [
        "# 코드를 완성하라.\n",
        "\n",
        "def price_comparison(item):\n",
        "    # 쇼핑몰 A의 상품 가격 조회\n",
        "    price_a = item_price(\"shopA.txt\", item)\n",
        "\n",
        "    # 쇼핑몰 B의 상품 가격 조회\n",
        "    price_b = item_price(\"shopB.txt\", item)\n",
        "\n",
        "    if price_a is None and price_b is None:\n",
        "        return \"해당 상품은 두 쇼핑몰에서 모두 구입할 수 없습니다.\"\n",
        "    elif price_a is None:\n",
        "        return f\"쇼핑몰 A에서는 해당 상품을 구입할 수 없습니다. 쇼핑몰 B의 가격은 {price_b}입니다.\"\n",
        "    elif price_b is None:\n",
        "        return f\"쇼핑몰 B에서는 해당 상품을 구입할 수 없습니다. 쇼핑몰 A의 가격은 {price_a}입니다.\"\n",
        "    else:\n",
        "        if price_a < price_b:\n",
        "            return f\"쇼핑몰 A에서 구입하는 것이 더 저렴합니다. 쇼핑몰 A의 가격은 {price_a}이고, 쇼핑몰 B의 가격은 {price_b}입니다.\"\n",
        "        elif price_b < price_a:\n",
        "            return f\"쇼핑몰 B에서 구입하는 것이 더 저렴합니다. 쇼핑몰 A의 가격은 {price_a}이고, 쇼핑몰 B의 가격은 {price_b}입니다.\"\n",
        "        else:\n",
        "            return f\"쇼핑몰 A와 쇼핑몰 B에서 해당 상품의 가격이 동일합니다. 가격은 {price_a}입니다.\"\n",
        "\n",
        "print(price_comparison('김치'))\n"
      ]
    },
    {
      "cell_type": "markdown",
      "metadata": {
        "id": "ruTHKzk6_5n4"
      },
      "source": [
        "**다이빙 기록 관련**"
      ]
    },
    {
      "cell_type": "markdown",
      "metadata": {
        "id": "HR_tJllm_5n4"
      },
      "source": [
        "**문제 7**"
      ]
    },
    {
      "cell_type": "markdown",
      "metadata": {
        "id": "KtkuCBo0_5n5"
      },
      "source": [
        "[5미터 다이빙 기록 에서 등수를 확인하는 작업](https://codingalzi.github.io/pybook/files.html#sec-exp-diving-5m)과 \n",
        "동일한 작업을 10미터 다이빙 기록에 대해 진행하라."
      ]
    },
    {
      "cell_type": "code",
      "execution_count": null,
      "metadata": {
        "id": "NFThiKkP_5n5",
        "colab": {
          "base_uri": "https://localhost:8080/"
        },
        "outputId": "410955f5-be94-4ae0-8901-7fa4f1e31d1f"
      },
      "outputs": [
        {
          "output_type": "stream",
          "name": "stdout",
          "text": [
            "9.1의 등수는 4등입니다.\n"
          ]
        }
      ],
      "source": [
        "# 코드를 작성하라.\n",
        "\n",
        "def calculate_rank(scores, target_score):\n",
        "    # 점수를 내림차순으로 정렬\n",
        "    sorted_scores = sorted(scores, reverse=True)\n",
        "\n",
        "    # 대상 점수의 등수를 계산\n",
        "    rank = sorted_scores.index(target_score) + 1 if target_score in sorted_scores else None\n",
        "\n",
        "    return rank\n",
        "\n",
        "# 10미터 다이빙 기록\n",
        "diving_scores_10m = [8.5, 9.2, 7.8, 8.9, 9.5, 9.1, 7.7, 8.6, 9.3, 8.8]\n",
        "\n",
        "# 대상 점수와 등수 계산\n",
        "target_score = 9.1\n",
        "rank = calculate_rank(diving_scores_10m, target_score)\n",
        "\n",
        "if rank is not None:\n",
        "    print(f\"{target_score}의 등수는 {rank}등입니다.\")\n",
        "else:\n",
        "    print(f\"{target_score}는 기록에 없습니다.\")\n"
      ]
    },
    {
      "cell_type": "markdown",
      "metadata": {
        "id": "Tv9Sl0zb_5n6"
      },
      "source": [
        "**문제 8**"
      ]
    },
    {
      "cell_type": "markdown",
      "metadata": {
        "id": "uyYYv9Yr_5n6"
      },
      "source": [
        "5미터 다이빙 기록과 10미터 다이빙 기록의 합에 대해 등수를 확인하는 코드를 작성하라."
      ]
    },
    {
      "cell_type": "code",
      "execution_count": null,
      "metadata": {
        "id": "sQ4o7RiI_5n7",
        "colab": {
          "base_uri": "https://localhost:8080/"
        },
        "outputId": "5798e01a-cbeb-4b64-c324-a14c3d70486e"
      },
      "outputs": [
        {
          "output_type": "stream",
          "name": "stdout",
          "text": [
            "17.3는 기록에 없습니다.\n"
          ]
        }
      ],
      "source": [
        "# 코드를 작성하라.\n",
        "\n",
        "def calculate_rank_combined(scores_5m, scores_10m, target_score):\n",
        "    # 5미터 다이빙 기록과 10미터 다이빙 기록을 합산하여 점수 리스트 생성\n",
        "    combined_scores = [score_5m + score_10m for score_5m, score_10m in zip(scores_5m, scores_10m)]\n",
        "\n",
        "    # 합산 점수를 내림차순으로 정렬\n",
        "    sorted_scores = sorted(combined_scores, reverse=True)\n",
        "\n",
        "    # 대상 점수의 등수를 계산\n",
        "    rank = sorted_scores.index(target_score) + 1 if target_score in sorted_scores else None\n",
        "\n",
        "    return rank\n",
        "\n",
        "# 5미터 다이빙 기록\n",
        "diving_scores_5m = [7.5, 8.2, 6.8, 7.9, 8.5]\n",
        "\n",
        "# 10미터 다이빙 기록\n",
        "diving_scores_10m = [8.5, 9.2, 7.8, 8.9, 9.5]\n",
        "\n",
        "# 대상 점수와 등수 계산\n",
        "target_score = 17.3\n",
        "rank = calculate_rank_combined(diving_scores_5m, diving_scores_10m, target_score)\n",
        "\n",
        "if rank is not None:\n",
        "    print(f\"{target_score}의 등수는 {rank}등입니다.\")\n",
        "else:\n",
        "    print(f\"{target_score}는 기록에 없습니다.\")\n"
      ]
    }
  ],
  "metadata": {
    "colab": {
      "provenance": [],
      "include_colab_link": true
    },
    "kernelspec": {
      "display_name": "Python 3 (ipykernel)",
      "language": "python",
      "name": "python3"
    },
    "language_info": {
      "codemirror_mode": {
        "name": "ipython",
        "version": 3
      },
      "file_extension": ".py",
      "mimetype": "text/x-python",
      "name": "python",
      "nbconvert_exporter": "python",
      "pygments_lexer": "ipython3",
      "version": "3.9.13"
    }
  },
  "nbformat": 4,
  "nbformat_minor": 0
}